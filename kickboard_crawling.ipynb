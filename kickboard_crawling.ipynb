{
  "nbformat": 4,
  "nbformat_minor": 0,
  "metadata": {
    "colab": {
      "provenance": [],
      "authorship_tag": "ABX9TyNNjrYGRfFX3OCSP1CIqozn",
      "include_colab_link": true
    },
    "kernelspec": {
      "name": "python3",
      "display_name": "Python 3"
    },
    "language_info": {
      "name": "python"
    }
  },
  "cells": [
    {
      "cell_type": "markdown",
      "metadata": {
        "id": "view-in-github",
        "colab_type": "text"
      },
      "source": [
        "<a href=\"https://colab.research.google.com/github/dorahee-ee/BITamin-24-1R-CV/blob/main/kickboard_crawling.ipynb\" target=\"_parent\"><img src=\"https://colab.research.google.com/assets/colab-badge.svg\" alt=\"Open In Colab\"/></a>"
      ]
    },
    {
      "cell_type": "code",
      "execution_count": null,
      "metadata": {
        "colab": {
          "base_uri": "https://localhost:8080/"
        },
        "id": "d92lOJsg0OXb",
        "outputId": "623b7d8b-33b7-4f38-e112-7abafc75cbab"
      },
      "outputs": [
        {
          "output_type": "stream",
          "name": "stdout",
          "text": [
            "Drive already mounted at /content/drive; to attempt to forcibly remount, call drive.mount(\"/content/drive\", force_remount=True).\n"
          ]
        }
      ],
      "source": [
        "from google.colab import drive\n",
        "drive.mount('/content/drive')"
      ]
    },
    {
      "cell_type": "code",
      "source": [
        "!pip install selenium\n",
        "!apt-get update\n",
        "!apt install chromium-chromedriver\n",
        "# !cp /usr/lib/chromium-browser/chromedriver '/content/drive/MyDrive/bitamin-cv' # (최초 1회)\n",
        "!pip install chromedriver-autoinstaller"
      ],
      "metadata": {
        "id": "cfo9E1-50YHB"
      },
      "execution_count": null,
      "outputs": []
    },
    {
      "cell_type": "markdown",
      "source": [
        "## 0. 라이브러리 불러오기"
      ],
      "metadata": {
        "id": "jzXN-lEIxZYS"
      }
    },
    {
      "cell_type": "code",
      "source": [
        "from selenium import webdriver\n",
        "from selenium.webdriver.support.ui import WebDriverWait\n",
        "from selenium.webdriver.support import expected_conditions as EC\n",
        "from selenium.webdriver.common.by import By\n",
        "import sys\n",
        "from selenium.webdriver.common.keys import Keys\n",
        "import urllib.request\n",
        "import os\n",
        "from urllib.request import urlretrieve\n",
        "\n",
        "import time\n",
        "import pandas as pd\n",
        "import chromedriver_autoinstaller  # setup chrome options"
      ],
      "metadata": {
        "id": "zuO_jqhD8bOC"
      },
      "execution_count": null,
      "outputs": []
    },
    {
      "cell_type": "markdown",
      "source": [
        "## 1. chromedriver 옵션 설정"
      ],
      "metadata": {
        "id": "xPJ-y3yHxeBr"
      }
    },
    {
      "cell_type": "code",
      "source": [
        "chrome_path = \"/content/drive/MyDrive/bitamin-cv/chromedriver\"\n",
        "\n",
        "sys.path.insert(0,chrome_path)\n",
        "chrome_options = webdriver.ChromeOptions()\n",
        "chrome_options.add_argument('--headless') # ensure GUI is off : cloab은 새창을 지원하지않기 때문에 창 없는 모드\n",
        "chrome_options.add_argument('--no-sandbox')\n",
        "chrome_options.add_argument('--disable-dev-shm-usage')  # set path to chromedriver as per your configuration\n",
        "chrome_options.add_argument('lang=ko_KR') # 한국어\n",
        "\n",
        "chromedriver_autoinstaller.install()  # set the target URL"
      ],
      "metadata": {
        "id": "bhcJbKOu3t9b"
      },
      "execution_count": null,
      "outputs": []
    },
    {
      "cell_type": "markdown",
      "source": [
        "## 2. 키워드 입력"
      ],
      "metadata": {
        "id": "7Ee9jpVTxjCh"
      }
    },
    {
      "cell_type": "code",
      "source": [
        "keyword= input('검색어를 입력하세요 : ')\n",
        "\n",
        "driver = webdriver.Chrome(options=chrome_options)\n",
        "driver.implicitly_wait(3)"
      ],
      "metadata": {
        "id": "WBY3d1Bb1V1X",
        "colab": {
          "base_uri": "https://localhost:8080/"
        },
        "outputId": "e86ab7f6-321a-4ee2-8a8d-cfc5ead40f45"
      },
      "execution_count": null,
      "outputs": [
        {
          "name": "stdout",
          "output_type": "stream",
          "text": [
            "검색어를 입력하세요 : 전동킥보드 운전\n"
          ]
        }
      ]
    },
    {
      "cell_type": "markdown",
      "source": [
        "## 3. 키워드 검색"
      ],
      "metadata": {
        "id": "9RdGyHEMxr2V"
      }
    },
    {
      "cell_type": "code",
      "source": [
        "print(keyword, '검색')\n",
        "driver.get('https://www.google.co.kr/imghp?hl=ko')\n",
        "\n",
        "browser =  driver.find_element(By.NAME, \"q\")\n",
        "browser.clear()\n",
        "browser.send_keys(keyword)\n",
        "browser.send_keys(Keys.RETURN)"
      ],
      "metadata": {
        "colab": {
          "base_uri": "https://localhost:8080/"
        },
        "id": "46vIEvZE38U-",
        "outputId": "11a688ac-4cdb-485e-acb0-3210de35b2a5"
      },
      "execution_count": null,
      "outputs": [
        {
          "output_type": "stream",
          "name": "stdout",
          "text": [
            "전동킥보드 운전 검색\n"
          ]
        }
      ]
    },
    {
      "cell_type": "code",
      "source": [
        "print(keyword+' 스크롤 중 .............')\n",
        "elem =  driver.find_element(By.TAG_NAME, \"body\")\n",
        "for i in range(60):\n",
        "    elem.send_keys(Keys.PAGE_DOWN)\n",
        "    time.sleep(0.1)\n",
        "\n",
        "try:\n",
        "    driver.find_element(By.XPATH, '//*[@id=\"islmp\"]/div/div/div/div[1]/div[4]/div[2]/input').click()\n",
        "    for i in range(60):\n",
        "        elem.send_keys(Keys.PAGE_DOWN)\n",
        "        time.sleep(0.1)\n",
        "except:\n",
        "    pass"
      ],
      "metadata": {
        "colab": {
          "base_uri": "https://localhost:8080/"
        },
        "id": "76chjUSH4Ib-",
        "outputId": "3e46068b-2fdf-43cb-f136-931735892a7e"
      },
      "execution_count": null,
      "outputs": [
        {
          "output_type": "stream",
          "name": "stdout",
          "text": [
            "전동킥보드 운전 스크롤 중 .............\n"
          ]
        }
      ]
    },
    {
      "cell_type": "markdown",
      "source": [
        "## 4. 이미지 검색 개수 및 다운로드"
      ],
      "metadata": {
        "id": "-VmCd00MxyfH"
      }
    },
    {
      "cell_type": "code",
      "source": [
        "links=[]\n",
        "images = driver.find_elements(By.CSS_SELECTOR, \".YQ4gaf\")\n",
        "for image in images:\n",
        "    if len(links) > 300:\n",
        "      break\n",
        "    if image.get_attribute('src')!=None:\n",
        "        links.append(image.get_attribute('src'))\n",
        "\n",
        "print(keyword+' 찾은 이미지 개수:',len(links))\n",
        "time.sleep(2)"
      ],
      "metadata": {
        "colab": {
          "base_uri": "https://localhost:8080/"
        },
        "id": "vsjE3woC4aYd",
        "outputId": "373ef9e2-0723-45c3-f783-21bd1b2034db"
      },
      "execution_count": null,
      "outputs": [
        {
          "output_type": "stream",
          "name": "stdout",
          "text": [
            "전동킥보드 운전 찾은 이미지 개수: 301\n"
          ]
        }
      ]
    },
    {
      "cell_type": "code",
      "source": [
        "save_dir = \"/content/drive/MyDrive/bitamin-cv/\" + keyword\n",
        "os.makedirs(save_dir, exist_ok=True)\n",
        "\n",
        "for k,i in enumerate(links):\n",
        "    url = i\n",
        "    start = time.time()\n",
        "    urllib.request.urlretrieve(url, save_dir + '/' + keyword + str(k)+\".jpg\")\n",
        "    print(str(k+1)+'/'+str(len(links))+' '+keyword+' 다운로드 중....... Download time : '+str(time.time() - start)[:5]+' 초')\n",
        "print(keyword+' ---다운로드 완료---')\n",
        "\n",
        "driver.close()"
      ],
      "metadata": {
        "colab": {
          "base_uri": "https://localhost:8080/"
        },
        "id": "uyda6tI14hra",
        "outputId": "dbb60215-b589-4306-81e0-a8b152792fc0"
      },
      "execution_count": null,
      "outputs": [
        {
          "output_type": "stream",
          "name": "stdout",
          "text": [
            "1/301 전동킥보드 운전 다운로드 중....... Download time : 0.008 초\n",
            "2/301 전동킥보드 운전 다운로드 중....... Download time : 0.006 초\n",
            "3/301 전동킥보드 운전 다운로드 중....... Download time : 0.007 초\n",
            "4/301 전동킥보드 운전 다운로드 중....... Download time : 0.007 초\n",
            "5/301 전동킥보드 운전 다운로드 중....... Download time : 0.010 초\n",
            "6/301 전동킥보드 운전 다운로드 중....... Download time : 0.028 초\n",
            "7/301 전동킥보드 운전 다운로드 중....... Download time : 0.025 초\n",
            "8/301 전동킥보드 운전 다운로드 중....... Download time : 0.038 초\n",
            "9/301 전동킥보드 운전 다운로드 중....... Download time : 0.016 초\n",
            "10/301 전동킥보드 운전 다운로드 중....... Download time : 0.006 초\n",
            "11/301 전동킥보드 운전 다운로드 중....... Download time : 0.007 초\n",
            "12/301 전동킥보드 운전 다운로드 중....... Download time : 0.008 초\n",
            "13/301 전동킥보드 운전 다운로드 중....... Download time : 0.007 초\n",
            "14/301 전동킥보드 운전 다운로드 중....... Download time : 0.007 초\n",
            "15/301 전동킥보드 운전 다운로드 중....... Download time : 0.007 초\n",
            "16/301 전동킥보드 운전 다운로드 중....... Download time : 0.007 초\n",
            "17/301 전동킥보드 운전 다운로드 중....... Download time : 0.008 초\n",
            "18/301 전동킥보드 운전 다운로드 중....... Download time : 0.007 초\n",
            "19/301 전동킥보드 운전 다운로드 중....... Download time : 0.007 초\n",
            "20/301 전동킥보드 운전 다운로드 중....... Download time : 0.008 초\n",
            "21/301 전동킥보드 운전 다운로드 중....... Download time : 0.026 초\n",
            "22/301 전동킥보드 운전 다운로드 중....... Download time : 0.008 초\n",
            "23/301 전동킥보드 운전 다운로드 중....... Download time : 0.008 초\n",
            "24/301 전동킥보드 운전 다운로드 중....... Download time : 0.008 초\n",
            "25/301 전동킥보드 운전 다운로드 중....... Download time : 0.007 초\n",
            "26/301 전동킥보드 운전 다운로드 중....... Download time : 0.010 초\n",
            "27/301 전동킥보드 운전 다운로드 중....... Download time : 0.008 초\n",
            "28/301 전동킥보드 운전 다운로드 중....... Download time : 0.007 초\n",
            "29/301 전동킥보드 운전 다운로드 중....... Download time : 0.007 초\n",
            "30/301 전동킥보드 운전 다운로드 중....... Download time : 0.007 초\n",
            "31/301 전동킥보드 운전 다운로드 중....... Download time : 0.008 초\n",
            "32/301 전동킥보드 운전 다운로드 중....... Download time : 0.007 초\n",
            "33/301 전동킥보드 운전 다운로드 중....... Download time : 0.020 초\n",
            "34/301 전동킥보드 운전 다운로드 중....... Download time : 0.007 초\n",
            "35/301 전동킥보드 운전 다운로드 중....... Download time : 0.008 초\n",
            "36/301 전동킥보드 운전 다운로드 중....... Download time : 0.007 초\n",
            "37/301 전동킥보드 운전 다운로드 중....... Download time : 0.007 초\n",
            "38/301 전동킥보드 운전 다운로드 중....... Download time : 0.009 초\n",
            "39/301 전동킥보드 운전 다운로드 중....... Download time : 0.010 초\n",
            "40/301 전동킥보드 운전 다운로드 중....... Download time : 0.024 초\n",
            "41/301 전동킥보드 운전 다운로드 중....... Download time : 0.006 초\n",
            "42/301 전동킥보드 운전 다운로드 중....... Download time : 0.019 초\n",
            "43/301 전동킥보드 운전 다운로드 중....... Download time : 0.008 초\n",
            "44/301 전동킥보드 운전 다운로드 중....... Download time : 0.016 초\n",
            "45/301 전동킥보드 운전 다운로드 중....... Download time : 0.018 초\n",
            "46/301 전동킥보드 운전 다운로드 중....... Download time : 0.023 초\n",
            "47/301 전동킥보드 운전 다운로드 중....... Download time : 0.007 초\n",
            "48/301 전동킥보드 운전 다운로드 중....... Download time : 0.017 초\n",
            "49/301 전동킥보드 운전 다운로드 중....... Download time : 0.007 초\n",
            "50/301 전동킥보드 운전 다운로드 중....... Download time : 0.023 초\n",
            "51/301 전동킥보드 운전 다운로드 중....... Download time : 0.006 초\n",
            "52/301 전동킥보드 운전 다운로드 중....... Download time : 0.020 초\n",
            "53/301 전동킥보드 운전 다운로드 중....... Download time : 0.007 초\n",
            "54/301 전동킥보드 운전 다운로드 중....... Download time : 0.024 초\n",
            "55/301 전동킥보드 운전 다운로드 중....... Download time : 0.007 초\n",
            "56/301 전동킥보드 운전 다운로드 중....... Download time : 0.095 초\n",
            "57/301 전동킥보드 운전 다운로드 중....... Download time : 0.018 초\n",
            "58/301 전동킥보드 운전 다운로드 중....... Download time : 0.017 초\n",
            "59/301 전동킥보드 운전 다운로드 중....... Download time : 0.016 초\n",
            "60/301 전동킥보드 운전 다운로드 중....... Download time : 0.021 초\n",
            "61/301 전동킥보드 운전 다운로드 중....... Download time : 0.026 초\n",
            "62/301 전동킥보드 운전 다운로드 중....... Download time : 0.007 초\n",
            "63/301 전동킥보드 운전 다운로드 중....... Download time : 0.017 초\n",
            "64/301 전동킥보드 운전 다운로드 중....... Download time : 0.007 초\n",
            "65/301 전동킥보드 운전 다운로드 중....... Download time : 0.024 초\n",
            "66/301 전동킥보드 운전 다운로드 중....... Download time : 0.007 초\n",
            "67/301 전동킥보드 운전 다운로드 중....... Download time : 0.020 초\n",
            "68/301 전동킥보드 운전 다운로드 중....... Download time : 0.008 초\n",
            "69/301 전동킥보드 운전 다운로드 중....... Download time : 0.018 초\n",
            "70/301 전동킥보드 운전 다운로드 중....... Download time : 0.018 초\n",
            "71/301 전동킥보드 운전 다운로드 중....... Download time : 0.020 초\n",
            "72/301 전동킥보드 운전 다운로드 중....... Download time : 0.007 초\n",
            "73/301 전동킥보드 운전 다운로드 중....... Download time : 0.023 초\n",
            "74/301 전동킥보드 운전 다운로드 중....... Download time : 0.007 초\n",
            "75/301 전동킥보드 운전 다운로드 중....... Download time : 0.016 초\n",
            "76/301 전동킥보드 운전 다운로드 중....... Download time : 0.006 초\n",
            "77/301 전동킥보드 운전 다운로드 중....... Download time : 0.029 초\n",
            "78/301 전동킥보드 운전 다운로드 중....... Download time : 0.008 초\n",
            "79/301 전동킥보드 운전 다운로드 중....... Download time : 0.023 초\n",
            "80/301 전동킥보드 운전 다운로드 중....... Download time : 0.008 초\n",
            "81/301 전동킥보드 운전 다운로드 중....... Download time : 0.026 초\n",
            "82/301 전동킥보드 운전 다운로드 중....... Download time : 0.021 초\n",
            "83/301 전동킥보드 운전 다운로드 중....... Download time : 0.019 초\n",
            "84/301 전동킥보드 운전 다운로드 중....... Download time : 0.008 초\n",
            "85/301 전동킥보드 운전 다운로드 중....... Download time : 0.024 초\n",
            "86/301 전동킥보드 운전 다운로드 중....... Download time : 0.009 초\n",
            "87/301 전동킥보드 운전 다운로드 중....... Download time : 0.018 초\n",
            "88/301 전동킥보드 운전 다운로드 중....... Download time : 0.009 초\n",
            "89/301 전동킥보드 운전 다운로드 중....... Download time : 0.019 초\n",
            "90/301 전동킥보드 운전 다운로드 중....... Download time : 0.007 초\n",
            "91/301 전동킥보드 운전 다운로드 중....... Download time : 0.024 초\n",
            "92/301 전동킥보드 운전 다운로드 중....... Download time : 0.006 초\n",
            "93/301 전동킥보드 운전 다운로드 중....... Download time : 0.022 초\n",
            "94/301 전동킥보드 운전 다운로드 중....... Download time : 0.008 초\n",
            "95/301 전동킥보드 운전 다운로드 중....... Download time : 0.035 초\n",
            "96/301 전동킥보드 운전 다운로드 중....... Download time : 0.005 초\n",
            "97/301 전동킥보드 운전 다운로드 중....... Download time : 0.028 초\n",
            "98/301 전동킥보드 운전 다운로드 중....... Download time : 0.013 초\n",
            "99/301 전동킥보드 운전 다운로드 중....... Download time : 0.025 초\n",
            "100/301 전동킥보드 운전 다운로드 중....... Download time : 0.009 초\n",
            "101/301 전동킥보드 운전 다운로드 중....... Download time : 0.024 초\n",
            "102/301 전동킥보드 운전 다운로드 중....... Download time : 0.006 초\n",
            "103/301 전동킥보드 운전 다운로드 중....... Download time : 0.028 초\n",
            "104/301 전동킥보드 운전 다운로드 중....... Download time : 0.007 초\n",
            "105/301 전동킥보드 운전 다운로드 중....... Download time : 0.017 초\n",
            "106/301 전동킥보드 운전 다운로드 중....... Download time : 0.020 초\n",
            "107/301 전동킥보드 운전 다운로드 중....... Download time : 0.019 초\n",
            "108/301 전동킥보드 운전 다운로드 중....... Download time : 0.006 초\n",
            "109/301 전동킥보드 운전 다운로드 중....... Download time : 0.024 초\n",
            "110/301 전동킥보드 운전 다운로드 중....... Download time : 0.025 초\n",
            "111/301 전동킥보드 운전 다운로드 중....... Download time : 0.021 초\n",
            "112/301 전동킥보드 운전 다운로드 중....... Download time : 0.024 초\n",
            "113/301 전동킥보드 운전 다운로드 중....... Download time : 0.008 초\n",
            "114/301 전동킥보드 운전 다운로드 중....... Download time : 0.027 초\n",
            "115/301 전동킥보드 운전 다운로드 중....... Download time : 0.005 초\n",
            "116/301 전동킥보드 운전 다운로드 중....... Download time : 0.025 초\n",
            "117/301 전동킥보드 운전 다운로드 중....... Download time : 0.006 초\n",
            "118/301 전동킥보드 운전 다운로드 중....... Download time : 0.024 초\n",
            "119/301 전동킥보드 운전 다운로드 중....... Download time : 0.020 초\n",
            "120/301 전동킥보드 운전 다운로드 중....... Download time : 0.028 초\n",
            "121/301 전동킥보드 운전 다운로드 중....... Download time : 0.006 초\n",
            "122/301 전동킥보드 운전 다운로드 중....... Download time : 0.020 초\n",
            "123/301 전동킥보드 운전 다운로드 중....... Download time : 0.007 초\n",
            "124/301 전동킥보드 운전 다운로드 중....... Download time : 0.024 초\n",
            "125/301 전동킥보드 운전 다운로드 중....... Download time : 0.005 초\n",
            "126/301 전동킥보드 운전 다운로드 중....... Download time : 0.027 초\n",
            "127/301 전동킥보드 운전 다운로드 중....... Download time : 0.007 초\n",
            "128/301 전동킥보드 운전 다운로드 중....... Download time : 0.020 초\n",
            "129/301 전동킥보드 운전 다운로드 중....... Download time : 0.009 초\n",
            "130/301 전동킥보드 운전 다운로드 중....... Download time : 0.029 초\n",
            "131/301 전동킥보드 운전 다운로드 중....... Download time : 0.009 초\n",
            "132/301 전동킥보드 운전 다운로드 중....... Download time : 0.019 초\n",
            "133/301 전동킥보드 운전 다운로드 중....... Download time : 0.012 초\n",
            "134/301 전동킥보드 운전 다운로드 중....... Download time : 0.027 초\n",
            "135/301 전동킥보드 운전 다운로드 중....... Download time : 0.007 초\n",
            "136/301 전동킥보드 운전 다운로드 중....... Download time : 0.022 초\n",
            "137/301 전동킥보드 운전 다운로드 중....... Download time : 0.006 초\n",
            "138/301 전동킥보드 운전 다운로드 중....... Download time : 0.027 초\n",
            "139/301 전동킥보드 운전 다운로드 중....... Download time : 0.005 초\n",
            "140/301 전동킥보드 운전 다운로드 중....... Download time : 0.019 초\n",
            "141/301 전동킥보드 운전 다운로드 중....... Download time : 0.020 초\n",
            "142/301 전동킥보드 운전 다운로드 중....... Download time : 0.019 초\n",
            "143/301 전동킥보드 운전 다운로드 중....... Download time : 0.006 초\n",
            "144/301 전동킥보드 운전 다운로드 중....... Download time : 0.026 초\n",
            "145/301 전동킥보드 운전 다운로드 중....... Download time : 0.007 초\n",
            "146/301 전동킥보드 운전 다운로드 중....... Download time : 0.025 초\n",
            "147/301 전동킥보드 운전 다운로드 중....... Download time : 0.008 초\n",
            "148/301 전동킥보드 운전 다운로드 중....... Download time : 0.025 초\n",
            "149/301 전동킥보드 운전 다운로드 중....... Download time : 0.007 초\n",
            "150/301 전동킥보드 운전 다운로드 중....... Download time : 0.021 초\n",
            "151/301 전동킥보드 운전 다운로드 중....... Download time : 0.007 초\n",
            "152/301 전동킥보드 운전 다운로드 중....... Download time : 0.024 초\n",
            "153/301 전동킥보드 운전 다운로드 중....... Download time : 0.023 초\n",
            "154/301 전동킥보드 운전 다운로드 중....... Download time : 0.017 초\n",
            "155/301 전동킥보드 운전 다운로드 중....... Download time : 0.008 초\n",
            "156/301 전동킥보드 운전 다운로드 중....... Download time : 0.021 초\n",
            "157/301 전동킥보드 운전 다운로드 중....... Download time : 0.005 초\n",
            "158/301 전동킥보드 운전 다운로드 중....... Download time : 0.028 초\n",
            "159/301 전동킥보드 운전 다운로드 중....... Download time : 0.009 초\n",
            "160/301 전동킥보드 운전 다운로드 중....... Download time : 0.017 초\n",
            "161/301 전동킥보드 운전 다운로드 중....... Download time : 0.024 초\n",
            "162/301 전동킥보드 운전 다운로드 중....... Download time : 0.019 초\n",
            "163/301 전동킥보드 운전 다운로드 중....... Download time : 0.020 초\n",
            "164/301 전동킥보드 운전 다운로드 중....... Download time : 0.007 초\n",
            "165/301 전동킥보드 운전 다운로드 중....... Download time : 0.031 초\n",
            "166/301 전동킥보드 운전 다운로드 중....... Download time : 0.025 초\n",
            "167/301 전동킥보드 운전 다운로드 중....... Download time : 0.020 초\n",
            "168/301 전동킥보드 운전 다운로드 중....... Download time : 0.007 초\n",
            "169/301 전동킥보드 운전 다운로드 중....... Download time : 0.028 초\n",
            "170/301 전동킥보드 운전 다운로드 중....... Download time : 0.006 초\n",
            "171/301 전동킥보드 운전 다운로드 중....... Download time : 0.021 초\n",
            "172/301 전동킥보드 운전 다운로드 중....... Download time : 0.008 초\n",
            "173/301 전동킥보드 운전 다운로드 중....... Download time : 0.025 초\n",
            "174/301 전동킥보드 운전 다운로드 중....... Download time : 0.007 초\n",
            "175/301 전동킥보드 운전 다운로드 중....... Download time : 0.029 초\n",
            "176/301 전동킥보드 운전 다운로드 중....... Download time : 0.006 초\n",
            "177/301 전동킥보드 운전 다운로드 중....... Download time : 0.025 초\n",
            "178/301 전동킥보드 운전 다운로드 중....... Download time : 0.007 초\n",
            "179/301 전동킥보드 운전 다운로드 중....... Download time : 0.027 초\n",
            "180/301 전동킥보드 운전 다운로드 중....... Download time : 0.006 초\n",
            "181/301 전동킥보드 운전 다운로드 중....... Download time : 0.020 초\n",
            "182/301 전동킥보드 운전 다운로드 중....... Download time : 0.011 초\n",
            "183/301 전동킥보드 운전 다운로드 중....... Download time : 0.027 초\n",
            "184/301 전동킥보드 운전 다운로드 중....... Download time : 0.007 초\n",
            "185/301 전동킥보드 운전 다운로드 중....... Download time : 0.023 초\n",
            "186/301 전동킥보드 운전 다운로드 중....... Download time : 0.007 초\n",
            "187/301 전동킥보드 운전 다운로드 중....... Download time : 0.035 초\n",
            "188/301 전동킥보드 운전 다운로드 중....... Download time : 0.006 초\n",
            "189/301 전동킥보드 운전 다운로드 중....... Download time : 0.019 초\n",
            "190/301 전동킥보드 운전 다운로드 중....... Download time : 0.008 초\n",
            "191/301 전동킥보드 운전 다운로드 중....... Download time : 0.034 초\n",
            "192/301 전동킥보드 운전 다운로드 중....... Download time : 0.008 초\n",
            "193/301 전동킥보드 운전 다운로드 중....... Download time : 0.029 초\n",
            "194/301 전동킥보드 운전 다운로드 중....... Download time : 0.006 초\n",
            "195/301 전동킥보드 운전 다운로드 중....... Download time : 0.025 초\n",
            "196/301 전동킥보드 운전 다운로드 중....... Download time : 0.012 초\n",
            "197/301 전동킥보드 운전 다운로드 중....... Download time : 0.022 초\n",
            "198/301 전동킥보드 운전 다운로드 중....... Download time : 0.005 초\n",
            "199/301 전동킥보드 운전 다운로드 중....... Download time : 0.027 초\n",
            "200/301 전동킥보드 운전 다운로드 중....... Download time : 0.006 초\n",
            "201/301 전동킥보드 운전 다운로드 중....... Download time : 0.020 초\n",
            "202/301 전동킥보드 운전 다운로드 중....... Download time : 0.006 초\n",
            "203/301 전동킥보드 운전 다운로드 중....... Download time : 0.027 초\n",
            "204/301 전동킥보드 운전 다운로드 중....... Download time : 0.024 초\n",
            "205/301 전동킥보드 운전 다운로드 중....... Download time : 0.030 초\n",
            "206/301 전동킥보드 운전 다운로드 중....... Download time : 0.005 초\n",
            "207/301 전동킥보드 운전 다운로드 중....... Download time : 0.020 초\n",
            "208/301 전동킥보드 운전 다운로드 중....... Download time : 0.007 초\n",
            "209/301 전동킥보드 운전 다운로드 중....... Download time : 0.021 초\n",
            "210/301 전동킥보드 운전 다운로드 중....... Download time : 0.006 초\n",
            "211/301 전동킥보드 운전 다운로드 중....... Download time : 0.025 초\n",
            "212/301 전동킥보드 운전 다운로드 중....... Download time : 0.020 초\n",
            "213/301 전동킥보드 운전 다운로드 중....... Download time : 0.020 초\n",
            "214/301 전동킥보드 운전 다운로드 중....... Download time : 0.020 초\n",
            "215/301 전동킥보드 운전 다운로드 중....... Download time : 0.006 초\n",
            "216/301 전동킥보드 운전 다운로드 중....... Download time : 0.035 초\n",
            "217/301 전동킥보드 운전 다운로드 중....... Download time : 0.009 초\n",
            "218/301 전동킥보드 운전 다운로드 중....... Download time : 0.027 초\n",
            "219/301 전동킥보드 운전 다운로드 중....... Download time : 0.007 초\n",
            "220/301 전동킥보드 운전 다운로드 중....... Download time : 0.024 초\n",
            "221/301 전동킥보드 운전 다운로드 중....... Download time : 0.021 초\n",
            "222/301 전동킥보드 운전 다운로드 중....... Download time : 0.022 초\n",
            "223/301 전동킥보드 운전 다운로드 중....... Download time : 0.021 초\n",
            "224/301 전동킥보드 운전 다운로드 중....... Download time : 0.021 초\n",
            "225/301 전동킥보드 운전 다운로드 중....... Download time : 0.023 초\n",
            "226/301 전동킥보드 운전 다운로드 중....... Download time : 0.020 초\n",
            "227/301 전동킥보드 운전 다운로드 중....... Download time : 0.031 초\n",
            "228/301 전동킥보드 운전 다운로드 중....... Download time : 0.026 초\n",
            "229/301 전동킥보드 운전 다운로드 중....... Download time : 0.051 초\n",
            "230/301 전동킥보드 운전 다운로드 중....... Download time : 0.025 초\n",
            "231/301 전동킥보드 운전 다운로드 중....... Download time : 0.020 초\n",
            "232/301 전동킥보드 운전 다운로드 중....... Download time : 0.025 초\n",
            "233/301 전동킥보드 운전 다운로드 중....... Download time : 0.024 초\n",
            "234/301 전동킥보드 운전 다운로드 중....... Download time : 0.024 초\n",
            "235/301 전동킥보드 운전 다운로드 중....... Download time : 0.024 초\n",
            "236/301 전동킥보드 운전 다운로드 중....... Download time : 0.019 초\n",
            "237/301 전동킥보드 운전 다운로드 중....... Download time : 0.026 초\n",
            "238/301 전동킥보드 운전 다운로드 중....... Download time : 0.019 초\n",
            "239/301 전동킥보드 운전 다운로드 중....... Download time : 0.025 초\n",
            "240/301 전동킥보드 운전 다운로드 중....... Download time : 0.024 초\n",
            "241/301 전동킥보드 운전 다운로드 중....... Download time : 0.026 초\n",
            "242/301 전동킥보드 운전 다운로드 중....... Download time : 0.023 초\n",
            "243/301 전동킥보드 운전 다운로드 중....... Download time : 0.020 초\n",
            "244/301 전동킥보드 운전 다운로드 중....... Download time : 0.020 초\n",
            "245/301 전동킥보드 운전 다운로드 중....... Download time : 0.027 초\n",
            "246/301 전동킥보드 운전 다운로드 중....... Download time : 0.020 초\n",
            "247/301 전동킥보드 운전 다운로드 중....... Download time : 0.026 초\n",
            "248/301 전동킥보드 운전 다운로드 중....... Download time : 0.021 초\n",
            "249/301 전동킥보드 운전 다운로드 중....... Download time : 0.026 초\n",
            "250/301 전동킥보드 운전 다운로드 중....... Download time : 0.026 초\n",
            "251/301 전동킥보드 운전 다운로드 중....... Download time : 0.028 초\n",
            "252/301 전동킥보드 운전 다운로드 중....... Download time : 0.033 초\n",
            "253/301 전동킥보드 운전 다운로드 중....... Download time : 0.025 초\n",
            "254/301 전동킥보드 운전 다운로드 중....... Download time : 0.043 초\n",
            "255/301 전동킥보드 운전 다운로드 중....... Download time : 0.025 초\n",
            "256/301 전동킥보드 운전 다운로드 중....... Download time : 0.022 초\n",
            "257/301 전동킥보드 운전 다운로드 중....... Download time : 0.020 초\n",
            "258/301 전동킥보드 운전 다운로드 중....... Download time : 0.020 초\n",
            "259/301 전동킥보드 운전 다운로드 중....... Download time : 0.020 초\n",
            "260/301 전동킥보드 운전 다운로드 중....... Download time : 0.019 초\n",
            "261/301 전동킥보드 운전 다운로드 중....... Download time : 0.029 초\n",
            "262/301 전동킥보드 운전 다운로드 중....... Download time : 0.025 초\n",
            "263/301 전동킥보드 운전 다운로드 중....... Download time : 0.019 초\n",
            "264/301 전동킥보드 운전 다운로드 중....... Download time : 0.019 초\n",
            "265/301 전동킥보드 운전 다운로드 중....... Download time : 0.019 초\n",
            "266/301 전동킥보드 운전 다운로드 중....... Download time : 0.041 초\n",
            "267/301 전동킥보드 운전 다운로드 중....... Download time : 0.115 초\n",
            "268/301 전동킥보드 운전 다운로드 중....... Download time : 0.028 초\n",
            "269/301 전동킥보드 운전 다운로드 중....... Download time : 0.021 초\n",
            "270/301 전동킥보드 운전 다운로드 중....... Download time : 0.027 초\n",
            "271/301 전동킥보드 운전 다운로드 중....... Download time : 0.021 초\n",
            "272/301 전동킥보드 운전 다운로드 중....... Download time : 0.023 초\n",
            "273/301 전동킥보드 운전 다운로드 중....... Download time : 0.114 초\n",
            "274/301 전동킥보드 운전 다운로드 중....... Download time : 0.023 초\n",
            "275/301 전동킥보드 운전 다운로드 중....... Download time : 0.032 초\n",
            "276/301 전동킥보드 운전 다운로드 중....... Download time : 0.034 초\n",
            "277/301 전동킥보드 운전 다운로드 중....... Download time : 0.021 초\n",
            "278/301 전동킥보드 운전 다운로드 중....... Download time : 0.047 초\n",
            "279/301 전동킥보드 운전 다운로드 중....... Download time : 0.020 초\n",
            "280/301 전동킥보드 운전 다운로드 중....... Download time : 0.031 초\n",
            "281/301 전동킥보드 운전 다운로드 중....... Download time : 0.020 초\n",
            "282/301 전동킥보드 운전 다운로드 중....... Download time : 0.021 초\n",
            "283/301 전동킥보드 운전 다운로드 중....... Download time : 0.023 초\n",
            "284/301 전동킥보드 운전 다운로드 중....... Download time : 0.019 초\n",
            "285/301 전동킥보드 운전 다운로드 중....... Download time : 0.018 초\n",
            "286/301 전동킥보드 운전 다운로드 중....... Download time : 0.020 초\n",
            "287/301 전동킥보드 운전 다운로드 중....... Download time : 0.020 초\n",
            "288/301 전동킥보드 운전 다운로드 중....... Download time : 0.021 초\n",
            "289/301 전동킥보드 운전 다운로드 중....... Download time : 0.020 초\n",
            "290/301 전동킥보드 운전 다운로드 중....... Download time : 0.019 초\n",
            "291/301 전동킥보드 운전 다운로드 중....... Download time : 0.037 초\n",
            "292/301 전동킥보드 운전 다운로드 중....... Download time : 0.022 초\n",
            "293/301 전동킥보드 운전 다운로드 중....... Download time : 0.025 초\n",
            "294/301 전동킥보드 운전 다운로드 중....... Download time : 0.021 초\n",
            "295/301 전동킥보드 운전 다운로드 중....... Download time : 0.020 초\n",
            "296/301 전동킥보드 운전 다운로드 중....... Download time : 0.026 초\n",
            "297/301 전동킥보드 운전 다운로드 중....... Download time : 0.030 초\n",
            "298/301 전동킥보드 운전 다운로드 중....... Download time : 0.028 초\n",
            "299/301 전동킥보드 운전 다운로드 중....... Download time : 0.019 초\n",
            "300/301 전동킥보드 운전 다운로드 중....... Download time : 0.018 초\n",
            "301/301 전동킥보드 운전 다운로드 중....... Download time : 0.026 초\n",
            "전동킥보드 운전 ---다운로드 완료---\n"
          ]
        }
      ]
    }
  ]
}